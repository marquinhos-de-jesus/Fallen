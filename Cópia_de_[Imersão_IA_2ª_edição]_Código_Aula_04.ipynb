{
  "cells": [
    {
      "cell_type": "markdown",
      "metadata": {
        "id": "view-in-github",
        "colab_type": "text"
      },
      "source": [
        "<a href=\"https://colab.research.google.com/github/marquinhos-de-jesus/Fallen/blob/main/C%C3%B3pia_de_%5BImers%C3%A3o_IA_2%C2%AA_edi%C3%A7%C3%A3o%5D_C%C3%B3digo_Aula_04.ipynb\" target=\"_parent\"><img src=\"https://colab.research.google.com/assets/colab-badge.svg\" alt=\"Open In Colab\"/></a>"
      ]
    },
    {
      "cell_type": "code",
      "execution_count": 7,
      "metadata": {
        "id": "nFQLKQ6hfXch"
      },
      "outputs": [],
      "source": [
        "#Instalando o SDK do Google\n",
        "!pip install -q -U google-generativeai"
      ]
    },
    {
      "cell_type": "code",
      "execution_count": null,
      "metadata": {
        "id": "IthzwfnAfcsi"
      },
      "outputs": [],
      "source": [
        "#Configurações iniciais\n",
        "import google.generativeai as genai\n",
        "from google.colab import userdata\n",
        "api_key = userdata.get('SECRET_KEY')\n",
        "genai.configure(api_key=api_key)"
      ]
    },
    {
      "cell_type": "code",
      "execution_count": null,
      "metadata": {
        "colab": {
          "base_uri": "https://localhost:8080/",
          "height": 144
        },
        "id": "iD3ihugymWBt",
        "outputId": "4c980f0b-9c22-48a9-90fc-2a3a4495260c"
      },
      "outputs": [
        {
          "output_type": "stream",
          "name": "stdout",
          "text": [
            "models/gemini-1.0-pro\n",
            "models/gemini-1.0-pro-001\n",
            "models/gemini-1.0-pro-latest\n",
            "models/gemini-1.0-pro-vision-latest\n",
            "models/gemini-1.5-pro-latest\n",
            "models/gemini-pro\n",
            "models/gemini-pro-vision\n"
          ]
        }
      ],
      "source": [
        "#Listando os modelos disponíveis\n",
        "for m in genai.list_models():\n",
        "  if 'generateContent' in m.supported_generation_methods:\n",
        "    print(m.name)"
      ]
    },
    {
      "cell_type": "code",
      "execution_count": 10,
      "metadata": {
        "id": "O1ochaeyDn_o"
      },
      "outputs": [],
      "source": [
        "generation_config = {\n",
        "  \"candidate_count\": 1,\n",
        "  \"temperature\": 0.5,\n",
        "}"
      ]
    },
    {
      "cell_type": "code",
      "execution_count": null,
      "metadata": {
        "id": "jwBv7DofDofw"
      },
      "outputs": [],
      "source": [
        "safety_settings={\n",
        "    'HATE': 'BLOCK_NONE',\n",
        "    'HARASSMENT': 'BLOCK_NONE',\n",
        "    'SEXUAL' : 'BLOCK_NONE',\n",
        "    'DANGEROUS' : 'BLOCK_NONE'\n",
        "    }"
      ]
    },
    {
      "cell_type": "code",
      "execution_count": 8,
      "metadata": {
        "id": "NIiSs1R5mVJE"
      },
      "outputs": [],
      "source": [
        "model = genai.GenerativeModel(model_name='gemini-1.0-pro',\n",
        "                                  generation_config=generation_config,\n",
        "                                  safety_settings=safety_settings,)"
      ]
    },
    {
      "cell_type": "code",
      "execution_count": 12,
      "metadata": {
        "colab": {
          "base_uri": "https://localhost:8080/",
          "height": 725
        },
        "id": "vrRjhT2rlrU_",
        "outputId": "5bd1f3f9-8b2a-4306-fbc6-0f67aa73e62a",
        "collapsed": true
      },
      "outputs": [
        {
          "output_type": "stream",
          "name": "stdout",
          "text": [
            "**Recursos Online:**\n",
            "\n",
            "* **Coursera:** Cursos de IA de universidades de renome como Stanford e MIT.\n",
            "* **edX:** Cursos de IA de universidades como Harvard e Berkeley.\n",
            "* **Udemy:** Cursos de IA para todos os níveis de habilidade.\n",
            "* **Kaggle:** Plataforma de aprendizado de máquina com tutoriais, competições e fóruns.\n",
            "* **TensorFlow:** Biblioteca de aprendizado de máquina de código aberto com documentação e tutoriais.\n",
            "\n",
            "**Livros:**\n",
            "\n",
            "* **Aprendizado de Máquina** por Ethem Alpaydin\n",
            "* **Inteligência Artificial: Um Enfoque Moderno** por Stuart Russell e Peter Norvig\n",
            "* **Aprendizado Profundo** por Ian Goodfellow, Yoshua Bengio e Aaron Courville\n",
            "* **Python para Ciência de Dados** por Wes McKinney\n",
            "* **Estatística para Ciência de Dados** por Jake VanderPlas\n",
            "\n",
            "**Canais do YouTube:**\n",
            "\n",
            "* **3Blue1Brown:** Vídeos animados explicando conceitos de IA.\n",
            "* **Sentdex:** Tutoriais e projetos práticos de IA.\n",
            "* **Machine Learning with Google:** Canal oficial do Google para aprendizado de máquina.\n",
            "* **DeepLearning.AI:** Canal de Andrew Ng, cofundador do Coursera.\n",
            "* **MIT OpenCourseWare:** Vídeos de palestras de IA do MIT.\n",
            "\n",
            "**Comunidades e Fóruns:**\n",
            "\n",
            "* **Reddit r/MachineLearning:** Comunidade online para discussão sobre aprendizado de máquina.\n",
            "* **Stack Overflow:** Fórum para perguntas e respostas técnicas sobre IA.\n",
            "* **GitHub:** Plataforma para compartilhar e colaborar em projetos de IA.\n",
            "* **Meetup:** Grupos locais para se conectar com outros entusiastas de IA.\n",
            "* **Conferências e Workshops:** Participe de eventos do setor para aprender com especialistas e conhecer novas tecnologias.\n",
            "\n",
            "**Projetos Práticos:**\n",
            "\n",
            "* **Construa um chatbot:** Use processamento de linguagem natural (PNL) para criar um assistente virtual que responda a perguntas.\n",
            "* **Preveja o preço das ações:** Use aprendizado de máquina para analisar dados históricos e prever preços futuros.\n",
            "* **Detecte objetos em imagens:** Use visão computacional para identificar e localizar objetos em fotos.\n",
            "* **Recomendações de produtos:** Use aprendizado profundo para recomendar produtos aos usuários com base em seus históricos de compra.\n",
            "* **Diagnóstico médico:** Use IA para analisar dados médicos e auxiliar no diagnóstico de doenças.\n"
          ]
        }
      ],
      "source": [
        "response = model.generate_content(\"Estou aprendendo sobre IA. Me dê sugestôes.\")\n",
        "print(response.text)"
      ]
    },
    {
      "cell_type": "code",
      "execution_count": 15,
      "metadata": {
        "colab": {
          "base_uri": "https://localhost:8080/",
          "height": 525
        },
        "id": "KpaQ6hm5f2_J",
        "outputId": "ab233622-77bb-4d08-eb56-63391a859b40",
        "collapsed": true
      },
      "outputs": [
        {
          "name": "stdout",
          "output_type": "stream",
          "text": [
            "Esperando prompt: Qual o maior clube de futebol do mundo?\n",
            "Resposta: Real Madrid \n",
            "\n",
            "\n",
            "Esperando prompt: Quais os títulos ?\n",
            "Resposta: **Títulos Nacionais**\n",
            "\n",
            "* Campeonato Espanhol (La Liga): 35\n",
            "* Copa do Rei: 20\n",
            "* Supercopa da Espanha: 12\n",
            "\n",
            "**Títulos Internacionais**\n",
            "\n",
            "* Liga dos Campeões da UEFA: 14\n",
            "* Supercopa da UEFA: 5\n",
            "* Copa Intercontinental: 3\n",
            "* Mundial de Clubes da FIFA: 4\n",
            "\n",
            "**Outros Títulos**\n",
            "\n",
            "* Copa Eva Duarte: 1\n",
            "* Copa da Liga Espanhola: 1\n",
            "* Copa da UEFA: 2\n",
            "\n",
            "**Total de Títulos Oficiais:** 99 \n",
            "\n",
            "\n",
            "Esperando prompt: fim\n"
          ]
        }
      ],
      "source": [
        "chat = model.start_chat(history=[])\n",
        "\n",
        "prompt = input('Esperando prompt: ')\n",
        "\n",
        "while prompt != \"fim\":\n",
        "  response = chat.send_message(prompt)\n",
        "  print(\"Resposta:\", response.text, '\\n\\n')\n",
        "  prompt = input('Esperando prompt: ')"
      ]
    },
    {
      "cell_type": "code",
      "execution_count": 16,
      "metadata": {
        "id": "XLAniTTDhHNW",
        "colab": {
          "base_uri": "https://localhost:8080/"
        },
        "collapsed": true,
        "outputId": "c2727ee6-c01d-412f-d320-feaf43784f89"
      },
      "outputs": [
        {
          "output_type": "execute_result",
          "data": {
            "text/plain": [
              "ChatSession(\n",
              "    model=genai.GenerativeModel(\n",
              "        model_name='models/gemini-1.0-pro',\n",
              "        generation_config={'candidate_count': 1, 'temperature': 0.5},\n",
              "        safety_settings={<HarmCategory.HARM_CATEGORY_HATE_SPEECH: 8>: <HarmBlockThreshold.BLOCK_NONE: 4>, <HarmCategory.HARM_CATEGORY_HARASSMENT: 7>: <HarmBlockThreshold.BLOCK_NONE: 4>, <HarmCategory.HARM_CATEGORY_SEXUALLY_EXPLICIT: 9>: <HarmBlockThreshold.BLOCK_NONE: 4>, <HarmCategory.HARM_CATEGORY_DANGEROUS_CONTENT: 10>: <HarmBlockThreshold.BLOCK_NONE: 4>},\n",
              "        tools=None,\n",
              "        system_instruction=None,\n",
              "    ),\n",
              "    history=[glm.Content({'parts': [{'text': 'Qual o maior...bol do mundo?'}], 'role': 'user'}), glm.Content({'parts': [{'text': 'Real Madrid'}], 'role': 'model'}), glm.Content({'parts': [{'text': 'Quais os títulos ?'}], 'role': 'user'}), glm.Content({'parts': [{'text': '**Títulos Na...ficiais:** 99'}], 'role': 'model'})]\n",
              ")"
            ]
          },
          "metadata": {},
          "execution_count": 16
        }
      ],
      "source": [
        "chat"
      ]
    },
    {
      "cell_type": "code",
      "execution_count": 17,
      "metadata": {
        "id": "sd8mvW9KghTf",
        "colab": {
          "base_uri": "https://localhost:8080/"
        },
        "collapsed": true,
        "outputId": "4f12d72e-8e7b-47a0-ceb4-fc52be48bfc1"
      },
      "outputs": [
        {
          "output_type": "execute_result",
          "data": {
            "text/plain": [
              "[parts {\n",
              "   text: \"Qual o maior clube de futebol do mundo?\"\n",
              " }\n",
              " role: \"user\",\n",
              " parts {\n",
              "   text: \"Real Madrid\"\n",
              " }\n",
              " role: \"model\",\n",
              " parts {\n",
              "   text: \"Quais os t\\303\\255tulos ?\"\n",
              " }\n",
              " role: \"user\",\n",
              " parts {\n",
              "   text: \"**T\\303\\255tulos Nacionais**\\n\\n* Campeonato Espanhol (La Liga): 35\\n* Copa do Rei: 20\\n* Supercopa da Espanha: 12\\n\\n**T\\303\\255tulos Internacionais**\\n\\n* Liga dos Campe\\303\\265es da UEFA: 14\\n* Supercopa da UEFA: 5\\n* Copa Intercontinental: 3\\n* Mundial de Clubes da FIFA: 4\\n\\n**Outros T\\303\\255tulos**\\n\\n* Copa Eva Duarte: 1\\n* Copa da Liga Espanhola: 1\\n* Copa da UEFA: 2\\n\\n**Total de T\\303\\255tulos Oficiais:** 99\"\n",
              " }\n",
              " role: \"model\"]"
            ]
          },
          "metadata": {},
          "execution_count": 17
        }
      ],
      "source": [
        "chat.history"
      ]
    },
    {
      "cell_type": "code",
      "execution_count": 18,
      "metadata": {
        "id": "dAcbPBocgzeX",
        "colab": {
          "base_uri": "https://localhost:8080/",
          "height": 533
        },
        "outputId": "47cfd4d9-bacb-4387-e4f8-766fc2c83687"
      },
      "outputs": [
        {
          "output_type": "display_data",
          "data": {
            "text/plain": [
              "<IPython.core.display.Markdown object>"
            ],
            "text/markdown": "> **user**: Qual o maior clube de futebol do mundo?"
          },
          "metadata": {}
        },
        {
          "output_type": "stream",
          "name": "stdout",
          "text": [
            "-------------------------------------------\n"
          ]
        },
        {
          "output_type": "display_data",
          "data": {
            "text/plain": [
              "<IPython.core.display.Markdown object>"
            ],
            "text/markdown": "> **model**: Real Madrid"
          },
          "metadata": {}
        },
        {
          "output_type": "stream",
          "name": "stdout",
          "text": [
            "-------------------------------------------\n"
          ]
        },
        {
          "output_type": "display_data",
          "data": {
            "text/plain": [
              "<IPython.core.display.Markdown object>"
            ],
            "text/markdown": "> **user**: Quais os títulos ?"
          },
          "metadata": {}
        },
        {
          "output_type": "stream",
          "name": "stdout",
          "text": [
            "-------------------------------------------\n"
          ]
        },
        {
          "output_type": "display_data",
          "data": {
            "text/plain": [
              "<IPython.core.display.Markdown object>"
            ],
            "text/markdown": "> **model**: **Títulos Nacionais**\n> \n> * Campeonato Espanhol (La Liga): 35\n> * Copa do Rei: 20\n> * Supercopa da Espanha: 12\n> \n> **Títulos Internacionais**\n> \n> * Liga dos Campeões da UEFA: 14\n> * Supercopa da UEFA: 5\n> * Copa Intercontinental: 3\n> * Mundial de Clubes da FIFA: 4\n> \n> **Outros Títulos**\n> \n> * Copa Eva Duarte: 1\n> * Copa da Liga Espanhola: 1\n> * Copa da UEFA: 2\n> \n> **Total de Títulos Oficiais:** 99"
          },
          "metadata": {}
        },
        {
          "output_type": "stream",
          "name": "stdout",
          "text": [
            "-------------------------------------------\n"
          ]
        }
      ],
      "source": [
        "#Melhorando a visualização\n",
        "#Código disponível em https://ai.google.dev/tutorials/python_quickstart#import_packages\n",
        "import textwrap\n",
        "from IPython.display import display\n",
        "from IPython.display import Markdown\n",
        "\n",
        "def to_markdown(text):\n",
        "  text = text.replace('•', '  *')\n",
        "  return Markdown(textwrap.indent(text, '> ', predicate=lambda _: True))\n",
        "\n",
        "#Imprimindo o histórico\n",
        "for message in chat.history:\n",
        "  display(to_markdown(f'**{message.role}**: {message.parts[0].text}'))\n",
        "  print('-------------------------------------------')"
      ]
    }
  ],
  "metadata": {
    "colab": {
      "provenance": [],
      "include_colab_link": true
    },
    "kernelspec": {
      "display_name": "Python 3",
      "name": "python3"
    },
    "language_info": {
      "name": "python"
    }
  },
  "nbformat": 4,
  "nbformat_minor": 0
}